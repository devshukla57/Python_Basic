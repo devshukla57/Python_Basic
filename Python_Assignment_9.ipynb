{
 "cells": [
  {
   "cell_type": "markdown",
   "id": "bc34375c",
   "metadata": {},
   "source": [
    "# 1. To what does a relative path refer?"
   ]
  },
  {
   "cell_type": "markdown",
   "id": "6d039144",
   "metadata": {},
   "source": [
    "Relative paths are relative to the current working directory."
   ]
  },
  {
   "cell_type": "code",
   "execution_count": 3,
   "id": "c750ba29",
   "metadata": {},
   "outputs": [
    {
     "name": "stdout",
     "output_type": "stream",
     "text": [
      "C:\\Users\\devsh\\Python_Basic_Assignments\n"
     ]
    }
   ],
   "source": [
    "#example - current working directory is :-\n",
    "import os\n",
    "print(os.getcwd())"
   ]
  },
  {
   "cell_type": "markdown",
   "id": "09646ee6",
   "metadata": {},
   "source": [
    "# 2. What does an absolute path start with your operating system?"
   ]
  },
  {
   "cell_type": "markdown",
   "id": "411dbf75",
   "metadata": {},
   "source": [
    "Ans - Absolute paths start with the root folder, such as / or C:\\."
   ]
  },
  {
   "cell_type": "code",
   "execution_count": 17,
   "id": "ba1f10e4",
   "metadata": {},
   "outputs": [
    {
     "name": "stdout",
     "output_type": "stream",
     "text": [
      "C:\\Users\\devsh\\Python_Basic_Assignments\\Python Assignments 3.ipynb\n"
     ]
    }
   ],
   "source": [
    "#We can get the absolute path of the current file as shown below.\n",
    "import os\n",
    "absolutepath = os.path.abspath(\"Python Assignments 3.ipynb\")\n",
    "print(absolutepath)"
   ]
  },
  {
   "cell_type": "markdown",
   "id": "0d45298c",
   "metadata": {},
   "source": [
    "# 3. What do the functions os.getcwd() and os.chdir() do?"
   ]
  },
  {
   "cell_type": "markdown",
   "id": "2d1a77f0",
   "metadata": {},
   "source": [
    "The os.getcwd() function returns the current working directory. The os.chdir() function changes the current working directory."
   ]
  },
  {
   "cell_type": "code",
   "execution_count": 18,
   "id": "0f76976e",
   "metadata": {},
   "outputs": [
    {
     "name": "stdout",
     "output_type": "stream",
     "text": [
      "C:\\Users\\devsh\\Python_Basic_Assignments\n"
     ]
    }
   ],
   "source": [
    "import os\n",
    "print(os.getcwd())"
   ]
  },
  {
   "cell_type": "code",
   "execution_count": 19,
   "id": "0c46e91c",
   "metadata": {},
   "outputs": [],
   "source": [
    "#The current working directory can also be changed at runtime using the os.chdir() method."
   ]
  },
  {
   "cell_type": "code",
   "execution_count": 23,
   "id": "9a524ea6",
   "metadata": {},
   "outputs": [
    {
     "name": "stdout",
     "output_type": "stream",
     "text": [
      "Inserting inside- C:\\Users\\devsh\\Python_Basic_Assignments\n",
      "Something wrong with specified directory. Exception- \n",
      "(<class 'FileNotFoundError'>, FileNotFoundError(2, 'The system cannot find the path specified'), <traceback object at 0x0000021E56526180>)\n",
      "\n",
      "Restoring the path\n",
      "Current directory is- C:\\Users\\devsh\\Python_Basic_Assignments\n"
     ]
    }
   ],
   "source": [
    "import sys, os\n",
    "cwd = os.getcwd()\n",
    "# some non existing directory\n",
    "fd = 'false_dir/temp'\n",
    "try:\n",
    "    print(\"Inserting inside-\", os.getcwd())\n",
    "    os.chdir(fd)\n",
    "# Caching the exception    \n",
    "except:\n",
    "    print(\"Something wrong with specified directory. Exception- \")\n",
    "    print(sys.exc_info())\n",
    "# handling with finally          \n",
    "finally:\n",
    "    print()\n",
    "    print(\"Restoring the path\")\n",
    "    os.chdir(cwd)\n",
    "    print(\"Current directory is-\", os.getcwd())"
   ]
  },
  {
   "cell_type": "markdown",
   "id": "3d31b860",
   "metadata": {},
   "source": [
    "# 4. What are the . and .. folders?"
   ]
  },
  {
   "cell_type": "code",
   "execution_count": 7,
   "id": "b59f495a",
   "metadata": {},
   "outputs": [],
   "source": [
    "#The . folder is the current folder, and .. is the parent folder."
   ]
  },
  {
   "cell_type": "markdown",
   "id": "3ee851b0",
   "metadata": {},
   "source": [
    "# 5. In C:\\bacon\\eggs\\spam.txt, which part is the dir name, and which part is the base name?"
   ]
  },
  {
   "cell_type": "code",
   "execution_count": 2,
   "id": "bc389e06",
   "metadata": {},
   "outputs": [],
   "source": [
    "#C:\\bacon\\eggs is the dir name, while spam.txt is the base name."
   ]
  },
  {
   "cell_type": "markdown",
   "id": "e6e4cf56",
   "metadata": {},
   "source": [
    "# 6. What are the three “mode” arguments that can be passed to the open() function?"
   ]
  },
  {
   "cell_type": "code",
   "execution_count": 3,
   "id": "72fd04c4",
   "metadata": {},
   "outputs": [],
   "source": [
    "#The string 'r' for read mode, 'w' for write mode, and 'a' for append mode"
   ]
  },
  {
   "cell_type": "markdown",
   "id": "c9de9eea",
   "metadata": {},
   "source": [
    "# 7. What happens if an existing file is opened in write mode?"
   ]
  },
  {
   "cell_type": "code",
   "execution_count": 4,
   "id": "a3fa50bf",
   "metadata": {},
   "outputs": [],
   "source": [
    "#An existing file opened in write mode is erased and completely overwritten."
   ]
  },
  {
   "cell_type": "markdown",
   "id": "d3ae6a17",
   "metadata": {},
   "source": [
    "# 8. How do you tell the difference between read() and readlines()?"
   ]
  },
  {
   "cell_type": "code",
   "execution_count": 5,
   "id": "10e7d91b",
   "metadata": {},
   "outputs": [],
   "source": [
    "#The read() method returns the file's entire contents as a single string value. The readlines() method returns a list of strings, where each string is a line from the file's contents."
   ]
  },
  {
   "cell_type": "markdown",
   "id": "fae22658",
   "metadata": {},
   "source": [
    "# 9. What data structure does a shelf value resemble?"
   ]
  },
  {
   "cell_type": "code",
   "execution_count": 6,
   "id": "f891be61",
   "metadata": {},
   "outputs": [],
   "source": [
    "#A shelf value resembles a dictionary value; \n",
    "#it has keys and values, along with keys() and values() methods that work similarly to the dictionary methods of the same names."
   ]
  },
  {
   "cell_type": "code",
   "execution_count": null,
   "id": "edaa414d",
   "metadata": {},
   "outputs": [],
   "source": []
  }
 ],
 "metadata": {
  "kernelspec": {
   "display_name": "Python 3",
   "language": "python",
   "name": "python3"
  },
  "language_info": {
   "codemirror_mode": {
    "name": "ipython",
    "version": 3
   },
   "file_extension": ".py",
   "mimetype": "text/x-python",
   "name": "python",
   "nbconvert_exporter": "python",
   "pygments_lexer": "ipython3",
   "version": "3.8.8"
  }
 },
 "nbformat": 4,
 "nbformat_minor": 5
}
